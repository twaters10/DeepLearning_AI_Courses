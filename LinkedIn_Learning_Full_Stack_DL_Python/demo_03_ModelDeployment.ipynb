{
 "cells": [
  {
   "cell_type": "markdown",
   "id": "3b3ccac6",
   "metadata": {},
   "source": [
    "### TODO Recording\n",
    "\n",
    "Please record this in the terminal window and NOT in the notebook\n",
    "\n",
    "Be in the home directory of your machine ~/\n",
    "\n",
    "\n",
    "`python --version`\n",
    "\n",
    "`jupyter --version`\n",
    "\n",
    "`mkdir full_stack_deep_learning`\n",
    "\n",
    "`cd full_stack_deep_learning`\n",
    "\n",
    "`python3 -m venv fsdl_venv`\n",
    "\n",
    "`ls -l`\n",
    "\n",
    "`source fsdl_venv/bin/activate`\n",
    "\n",
    "IPython kernel (ipykernel) is a Python package that provides the communication between the Jupyter Notebook or JupyterLab interface and the Python kernel. It enables you to run Python code interactively and display the output within the notebook environment.\n",
    "\n",
    "`pip install ipykernel`\n",
    "\n",
    "Make sure you remove any other kernels that are present\n",
    "\n",
    "`jupyter kernelspec list`\n",
    "\n",
    "Install and make the mlflow_venv kernel available to Jupyter Notebooks\n",
    "\n",
    "`python -m ipykernel install --user --name=fsdl_venv`\n",
    "\n",
    "`jupyter kernelspec list`\n",
    "\n",
    "Upgrade pip\n",
    "\n",
    "`pip install --upgrade pip`\n",
    "\n",
    "`pip install torch matplotlib numpy  pandas mlflow`\n",
    "\n",
    "`mlflow --version`\n",
    "\n",
    "`mlflow ui`\n",
    "\n",
    "Go to http://127.0.0.1:5000 and show it is the same UI\n",
    "\n",
    "Come back to the terminal and kill the server\n",
    "\n",
    "`jupyter notebook`\n",
    "\n",
    "Select the fsdl_venv for the notebook\n",
    "\n",
    "#### NOTES: (not to be recorded)\n",
    "\n",
    "Windows\n",
    "\n",
    "`fsdl_venv/bin/activate`\n",
    "\n",
    "Uninstall kernel\n",
    "\n",
    "`jupyter kernelspec uninstall <env_name>`"
   ]
  },
  {
   "cell_type": "markdown",
   "id": "7614ddc0",
   "metadata": {},
   "source": [
    "### TODO Recording\n",
    "\n",
    "- Go the MLflow server running on ngrok\n",
    "- Download all the artifacts (they will get downloaded to your Downloads/ folder)\n",
    "- Behind the scenes arrange them in the right directory structure inside \n",
    "\n",
    "`full_stack_deep_learning/mlruns/best_model`\n",
    "\n",
    "- IMPORTANT: Open up the structure of best_model in a Finder window and show\n",
    "\n",
    "- Inside best_model\n",
    "\n",
    "`\n",
    "best_model/\n",
    "\n",
    "    conda.yaml\n",
    "  \n",
    "    data/\n",
    "       \n",
    "       model.pth\n",
    "       \n",
    "       pickle_module_info.txt\n",
    "    \n",
    "    MLmodel\n",
    "    \n",
    "    python_env.yaml\n",
    "    \n",
    "    requirements.txt\n",
    "`\n",
    "\n",
    "- Come back to the notebook and execute the code by pasting in"
   ]
  },
  {
   "cell_type": "code",
   "execution_count": 1,
   "id": "2583231e",
   "metadata": {},
   "outputs": [],
   "source": [
    "import torch\n",
    "import numpy as np\n",
    "import pandas as pd\n",
    "import matplotlib.pyplot as plt\n",
    "\n",
    "from torch.utils.data import Dataset, DataLoader"
   ]
  },
  {
   "cell_type": "markdown",
   "id": "23b14028",
   "metadata": {},
   "source": [
    "We are loading only the test data for local serving"
   ]
  },
  {
   "cell_type": "code",
   "execution_count": 2,
   "id": "2bed9f72",
   "metadata": {},
   "outputs": [],
   "source": [
    "emnist_test_data = pd.read_csv(\"emnist-letters-test.csv\")\n",
    "\n",
    "emnist_test_data = emnist_test_data.sample(frac = 1)"
   ]
  },
  {
   "cell_type": "code",
   "execution_count": 3,
   "id": "e5ac1b76",
   "metadata": {},
   "outputs": [],
   "source": [
    "class EMNISTDataset(Dataset):\n",
    "    def __init__(self, dataframe):\n",
    "        \n",
    "        self.images = torch.tensor(dataframe.iloc[:, 1:].values, dtype= torch.float32)\n",
    "        \n",
    "        self.labels = torch.tensor(dataframe.iloc[:, 0].values, dtype = torch.float32)\n",
    "\n",
    "    def __len__(self):\n",
    "        return len(self.images)\n",
    "\n",
    "    def __getitem__(self, idx):\n",
    "        images = self.images[idx]\n",
    "        \n",
    "        images = images / 255.0\n",
    "        \n",
    "        labels = self.labels[idx]\n",
    "        \n",
    "        return images, labels"
   ]
  },
  {
   "cell_type": "code",
   "execution_count": 4,
   "id": "6e305649",
   "metadata": {},
   "outputs": [],
   "source": [
    "test_dataset = EMNISTDataset(emnist_test_data )\n",
    "\n",
    "test_dataloader = DataLoader(test_dataset, batch_size = 64)"
   ]
  },
  {
   "cell_type": "code",
   "execution_count": 5,
   "id": "cb4ae4be",
   "metadata": {},
   "outputs": [
    {
     "data": {
      "text/plain": [
       "(torch.Size([64, 784]), torch.Size([64]))"
      ]
     },
     "execution_count": 5,
     "metadata": {},
     "output_type": "execute_result"
    }
   ],
   "source": [
    "test_dataiter = iter(test_dataloader)\n",
    "\n",
    "test_imgs, test_labels = next(test_dataiter)\n",
    "\n",
    "test_imgs.shape, test_labels.shape"
   ]
  },
  {
   "cell_type": "markdown",
   "id": "fb1efb8c",
   "metadata": {},
   "source": [
    "Verifying the downloaded model for predictions"
   ]
  },
  {
   "cell_type": "code",
   "execution_count": 6,
   "id": "730195ee",
   "metadata": {},
   "outputs": [
    {
     "name": "stderr",
     "output_type": "stream",
     "text": [
      "2023/12/09 09:45:07 WARNING mlflow.pyfunc: Encountered an unexpected error (AttributeError(\"module 'pathlib' has no attribute '__version__'\")) while detecting model dependency mismatches. Set logging level to DEBUG to see the full traceback.\n"
     ]
    },
    {
     "data": {
      "text/plain": [
       "(64, 26)"
      ]
     },
     "execution_count": 6,
     "metadata": {},
     "output_type": "execute_result"
    }
   ],
   "source": [
    "import mlflow\n",
    "\n",
    "logged_model = 'mlruns/best_model'\n",
    "\n",
    "# Load model as a PyFuncModel.\n",
    "loaded_model = mlflow.pyfunc.load_model(logged_model)\n",
    "\n",
    "predictions = loaded_model.predict(test_imgs.numpy().reshape(-1, 1, 28, 28))\n",
    "\n",
    "predictions.shape"
   ]
  },
  {
   "cell_type": "markdown",
   "id": "89a49386",
   "metadata": {},
   "source": [
    "### Plotting the input image"
   ]
  },
  {
   "cell_type": "code",
   "execution_count": 7,
   "id": "32a896f5",
   "metadata": {},
   "outputs": [
    {
     "data": {
      "text/plain": [
       "<matplotlib.image.AxesImage at 0x7f846a83bb20>"
      ]
     },
     "execution_count": 7,
     "metadata": {},
     "output_type": "execute_result"
    },
    {
     "data": {
      "image/png": "[encoded data removed]",
      "text/plain": [
       "<Figure size 640x480 with 1 Axes>"
      ]
     },
     "metadata": {},
     "output_type": "display_data"
    }
   ],
   "source": [
    "plt.imshow(test_imgs[5].numpy().reshape(28, 28), cmap = 'gray')"
   ]
  },
  {
   "cell_type": "code",
   "execution_count": 8,
   "id": "18581dcc",
   "metadata": {},
   "outputs": [
    {
     "data": {
      "text/plain": [
       "tensor(6.)"
      ]
     },
     "execution_count": 8,
     "metadata": {},
     "output_type": "execute_result"
    }
   ],
   "source": [
    "test_labels[5]"
   ]
  },
  {
   "cell_type": "code",
   "execution_count": 9,
   "id": "49e9c400",
   "metadata": {},
   "outputs": [],
   "source": [
    "classes = ['a', 'b', 'c', 'd', 'e', 'f', 'g', 'h', 'i', 'j', 'k', 'l', 'm',\n",
    "           'n', 'o', 'p', 'q', 'r', 's', 't', 'u', 'v', 'w', 'x', 'y', 'z']"
   ]
  },
  {
   "cell_type": "markdown",
   "id": "9beed835",
   "metadata": {},
   "source": [
    "Actual label is checked"
   ]
  },
  {
   "cell_type": "code",
   "execution_count": 10,
   "id": "f7ab776c",
   "metadata": {},
   "outputs": [
    {
     "data": {
      "text/plain": [
       "'f'"
      ]
     },
     "execution_count": 10,
     "metadata": {},
     "output_type": "execute_result"
    }
   ],
   "source": [
    "classes[int(test_labels[5].item())-1]"
   ]
  },
  {
   "cell_type": "markdown",
   "id": "04931297",
   "metadata": {},
   "source": [
    "Input is made into json format"
   ]
  },
  {
   "cell_type": "code",
   "execution_count": 11,
   "id": "d5ffb421",
   "metadata": {},
   "outputs": [
    {
     "data": {
      "text/plain": [
       "'{\"instances\": [[[[0.0, 0.0, 0.0, 0.0, 0.0, 0.0, 0.0, 0.0, 0.0, 0.0, 0.0, 0.0, 0.0, 0.0, 0.0, 0.0, 0.0, 0.0, 0.0, 0.0, 0.0, 0.0, 0.0, 0.0, 0.0, 0.0, 0.0, 0.0], [0.0, 0.0, 0.0, 0.0, 0.0, 0.0, 0.0, 0.0, 0.0, 0.0, 0.0, 0.0, 0.0, 0.0, 0.0, 0.0, 0.0, 0.0, 0.0, 0.0, 0.0, 0.0, 0.0, 0.0, 0.0, 0.0, 0.0, 0.0], [0.0, 0.0, 0.0, 0.0, 0.0, 0.0, 0.0, 0.0, 0.0, 0.0, 0.0, 0.0, 0.0, 0.0, 0.0, 0.0, 0.0, 0.0, 0.0, 0.0, 0.0, 0.0, 0.0, 0.0, 0.0, 0.0, 0.0, 0.0], [0.0, 0.0, 0.0, 0.0, 0.0, 0.0, 0.0, 0.0, 0.0, 0.0, 0.0, 0.0, 0.0, 0.0, 0.0235294122248888, 0.0235294122248888, 0.0, 0.0, 0.0, 0.0, 0.0, 0.0, 0.0, 0.0, 0.0, 0.0, 0.0, 0.0], [0.0, 0.0, 0.0, 0.0, 0.0, 0.0, 0.0, 0.0, 0.0, 0.0, 0.0, 0.0, 0.0, 0.007843137718737125, 0.6823529601097107, 0.6352941393852234, 0.0235294122248888, 0.0, 0.0, 0.0, 0.0, 0.0, 0.0, 0.0, 0.0, 0.0, 0.0, 0.0], [0.0, 0.0, 0.0, 0.0, 0.0, 0.0, 0.0, 0.0, 0.0, 0.0, 0.0, 0.0, 0.0, 0.03529411926865578, 0.9803921580314636, 0.8666666746139526, 0.0313725508749485, 0.0, 0.0, 0.0, 0.0, 0.0, 0.0, 0.0, 0.0, 0.0, 0.0, 0.0], [0.0, 0.0, 0.0, 0.0, 0.0, 0.0, 0.0, 0.0, 0.0, 0.0, 0.0, 0.0, 0.0, 0.0784313753247261, 0.9882352948188782, 0.8509804010391235, 0.01568627543747425, 0.0, 0.0, 0.0, 0.0, 0.0, 0.0, 0.0, 0.0, 0.0, 0.0, 0.0], [0.0, 0.0, 0.0, 0.0, 0.0, 0.0, 0.0, 0.0, 0.0, 0.0, 0.0, 0.0, 0.0, 0.0, 0.8705882430076599, 0.8509804010391235, 0.019607843831181526, 0.0, 0.0, 0.0, 0.0, 0.0, 0.0, 0.0, 0.0, 0.0, 0.0, 0.0], [0.0, 0.0, 0.0, 0.0, 0.007843137718737125, 0.01568627543747425, 0.0, 0.0, 0.0, 0.0, 0.0, 0.0, 0.0, 0.0, 0.843137264251709, 0.9607843160629272, 0.125490203499794, 0.0, 0.0, 0.0, 0.0, 0.0, 0.0, 0.0, 0.0, 0.0, 0.0, 0.0], [0.0, 0.0, 0.0, 0.0784313753247261, 0.6666666865348816, 0.800000011920929, 0.5058823823928833, 0.49803921580314636, 0.4431372582912445, 0.0313725508749485, 0.0, 0.0, 0.0, 0.0, 0.5490196347236633, 0.9882352948188782, 0.32156863808631897, 0.0, 0.0, 0.0, 0.0, 0.0, 0.0, 0.0, 0.0, 0.0, 0.0, 0.0], [0.0, 0.0, 0.007843137718737125, 0.6235294342041016, 0.9960784316062927, 0.9960784316062927, 0.9960784316062927, 0.9960784316062927, 0.9921568632125854, 0.6941176652908325, 0.4470588266849518, 0.08627451211214066, 0.0, 0.0, 0.32156863808631897, 0.9882352948188782, 0.49803921580314636, 0.0, 0.0, 0.0, 0.0, 0.0, 0.0, 0.0, 0.0, 0.0, 0.0, 0.0], [0.0, 0.0, 0.01568627543747425, 0.8509804010391235, 0.9960784316062927, 0.572549045085907, 0.49803921580314636, 0.5529412031173706, 0.9529411792755127, 0.9960784316062927, 0.9921568632125854, 0.9098039269447327, 0.545098066329956, 0.18039216101169586, 0.08627451211214066, 0.9137254953384399, 0.5058823823928833, 0.0, 0.0, 0.0, 0.0, 0.0, 0.0, 0.0, 0.0, 0.0, 0.0, 0.0], [0.0, 0.0, 0.08235294371843338, 0.9137254953384399, 0.9921568632125854, 0.125490203499794, 0.0, 0.003921568859368563, 0.13333334028720856, 0.4470588266849518, 0.6941176652908325, 0.9843137264251709, 0.9960784316062927, 0.9647058844566345, 0.5607843399047852, 0.9254902005195618, 0.800000011920929, 0.0235294122248888, 0.0, 0.0, 0.0, 0.0, 0.0, 0.0, 0.0, 0.0, 0.0, 0.0], [0.0, 0.0, 0.14509804546833038, 0.9803921580314636, 0.8627451062202454, 0.003921568859368563, 0.0, 0.0, 0.0, 0.0, 0.027450980618596077, 0.32156863808631897, 0.5529412031173706, 0.9529411792755127, 0.9960784316062927, 0.9960784316062927, 0.9686274528503418, 0.6784313917160034, 0.45098039507865906, 0.14901961386203766, 0.0313725508749485, 0.0, 0.0, 0.0, 0.0, 0.0, 0.0, 0.0], [0.0, 0.0, 0.32156863808631897, 0.9882352948188782, 0.5490196347236633, 0.0, 0.0, 0.0, 0.0, 0.0, 0.0, 0.0, 0.003921568859368563, 0.13333334028720856, 0.6705882549285889, 0.9686274528503418, 1.0, 0.9960784316062927, 0.9960784316062927, 0.9764705896377563, 0.8156862854957581, 0.5058823823928833, 0.4470588266849518, 0.125490203499794, 0.019607843831181526, 0.007843137718737125, 0.0, 0.0], [0.0, 0.0, 0.49803921580314636, 0.9921568632125854, 0.5686274766921997, 0.0, 0.0, 0.0, 0.0, 0.0, 0.0, 0.0, 0.0, 0.0, 0.0117647061124444, 0.3764705955982208, 0.9882352948188782, 0.9176470637321472, 0.9137254953384399, 0.9882352948188782, 0.9960784316062927, 0.9960784316062927, 0.9960784316062927, 0.9607843160629272, 0.8509804010391235, 0.6666666865348816, 0.07058823853731155, 0.0], [0.0, 0.007843137718737125, 0.6745098233222961, 0.9882352948188782, 0.3333333432674408, 0.0, 0.0, 0.0, 0.0, 0.0, 0.0, 0.0, 0.0, 0.0, 0.0, 0.14509804546833038, 0.9647058844566345, 0.2078431397676468, 0.08235294371843338, 0.32156863808631897, 0.49803921580314636, 0.6784313917160034, 0.9607843160629272, 0.9960784316062927, 0.9960784316062927, 0.9764705896377563, 0.14509804546833038, 0.0], [0.0, 0.01568627543747425, 0.8509804010391235, 0.9882352948188782, 0.32156863808631897, 0.0, 0.0, 0.0, 0.0, 0.0, 0.0, 0.0, 0.0, 0.0, 0.0, 0.125490203499794, 0.9411764740943909, 0.14509804546833038, 0.0, 0.0, 0.0, 0.0117647061124444, 0.13333334028720856, 0.4901960790157318, 0.49803921580314636, 0.4901960790157318, 0.07058823853731155, 0.0], [0.0, 0.019607843831181526, 0.8509804010391235, 0.9803921580314636, 0.14509804546833038, 0.0, 0.0, 0.0, 0.0, 0.0, 0.0, 0.0, 0.0, 0.0, 0.0, 0.08235294371843338, 0.9058823585510254, 0.3137255012989044, 0.0, 0.0, 0.0, 0.0, 0.0, 0.0, 0.0, 0.0, 0.0, 0.0], [0.0, 0.10588235408067703, 0.9411764740943909, 0.9333333373069763, 0.09803921729326248, 0.0, 0.0, 0.0, 0.0, 0.0, 0.0, 0.0, 0.0, 0.0, 0.0, 0.03529411926865578, 0.8549019694328308, 0.19607843458652496, 0.0, 0.0, 0.0, 0.0, 0.0, 0.0, 0.0, 0.0, 0.0, 0.0], [0.0, 0.019607843831181526, 0.8509804010391235, 0.9137254953384399, 0.0784313753247261, 0.0, 0.0, 0.0, 0.0, 0.0, 0.0, 0.0, 0.0, 0.0, 0.0, 0.01568627543747425, 0.8313725590705872, 0.14509804546833038, 0.0, 0.0, 0.0, 0.0, 0.0, 0.0, 0.0, 0.0, 0.0, 0.0], [0.0, 0.01568627543747425, 0.843137264251709, 0.9764705896377563, 0.43529412150382996, 0.019607843831181526, 0.10588235408067703, 0.0, 0.0, 0.0, 0.0, 0.0, 0.0, 0.0, 0.0, 0.0, 0.4588235318660736, 0.0784313753247261, 0.0, 0.0, 0.0, 0.0, 0.0, 0.0, 0.0, 0.0, 0.0, 0.0], [0.0, 0.0, 0.4941176474094391, 0.9921568632125854, 0.9254902005195618, 0.8509804010391235, 0.8078431487083435, 0.01568627543747425, 0.0, 0.0, 0.0, 0.0, 0.0, 0.0, 0.0, 0.0, 0.05098039284348488, 0.0, 0.0, 0.0, 0.0, 0.0, 0.0, 0.0, 0.0, 0.0, 0.0, 0.0], [0.0, 0.0, 0.0313725508749485, 0.6235294342041016, 0.9411764740943909, 0.8509804010391235, 0.4745098054409027, 0.0, 0.0, 0.0, 0.0, 0.0, 0.0, 0.0, 0.0, 0.0, 0.0, 0.0, 0.0, 0.0, 0.0, 0.0, 0.0, 0.0, 0.0, 0.0, 0.0, 0.0], [0.0, 0.0, 0.0, 0.0117647061124444, 0.10588235408067703, 0.01568627543747425, 0.007843137718737125, 0.0, 0.0, 0.0, 0.0, 0.0, 0.0, 0.0, 0.0, 0.0, 0.0, 0.0, 0.0, 0.0, 0.0, 0.0, 0.0, 0.0, 0.0, 0.0, 0.0, 0.0], [0.0, 0.0, 0.0, 0.0, 0.0, 0.0, 0.0, 0.0, 0.0, 0.0, 0.0, 0.0, 0.0, 0.0, 0.0, 0.0, 0.0, 0.0, 0.0, 0.0, 0.0, 0.0, 0.0, 0.0, 0.0, 0.0, 0.0, 0.0], [0.0, 0.0, 0.0, 0.0, 0.0, 0.0, 0.0, 0.0, 0.0, 0.0, 0.0, 0.0, 0.0, 0.0, 0.0, 0.0, 0.0, 0.0, 0.0, 0.0, 0.0, 0.0, 0.0, 0.0, 0.0, 0.0, 0.0, 0.0], [0.0, 0.0, 0.0, 0.0, 0.0, 0.0, 0.0, 0.0, 0.0, 0.0, 0.0, 0.0, 0.0, 0.0, 0.0, 0.0, 0.0, 0.0, 0.0, 0.0, 0.0, 0.0, 0.0, 0.0, 0.0, 0.0, 0.0, 0.0]]]]}'"
      ]
     },
     "execution_count": 11,
     "metadata": {},
     "output_type": "execute_result"
    }
   ],
   "source": [
    "import json\n",
    "\n",
    "# Get the tensor in the shape [-1, 1, 28, 28] and create a list of these tensors\n",
    "#\n",
    "data = json.dumps({\"instances\": test_imgs[5].reshape(-1, 1, 28, 28).tolist()})\n",
    "\n",
    "data"
   ]
  },
  {
   "cell_type": "markdown",
   "id": "fc9a8563",
   "metadata": {},
   "source": [
    "### TODO Recording:\n",
    "\n",
    "- Run the below command in terminal with Full_stack_deep_learning as working directory\n",
    "\n",
    "`mlflow models serve -m mlruns/best_model --env-manager local --host 127.0.0.1:1234`"
   ]
  },
  {
   "cell_type": "markdown",
   "id": "b0ad8ebd",
   "metadata": {},
   "source": [
    "### TODO Recording\n",
    "\n",
    "- Copy over the JSON string from above and running the below cell to show predictions"
   ]
  },
  {
   "cell_type": "code",
   "execution_count": 12,
   "id": "7338bda0",
   "metadata": {},
   "outputs": [
    {
     "name": "stdout",
     "output_type": "stream",
     "text": [
      "{\"predictions\": [[2.219493865966797, -29.166210174560547, -2.2996528148651123, -19.977157592773438, -1.8264541625976562, 25.076261520385742, -1.4856475591659546, -4.888859748840332, -2.687130928039551, 2.9445738792419434, -12.61015510559082, -11.612971305847168, -40.70948028564453, -14.043591499328613, -28.91634178161621, -7.952877998352051, -2.760037899017334, 2.014089822769165, -8.494477272033691, 7.568127632141113, -25.137611389160156, -21.357650756835938, -15.9081449508667, -3.7703542709350586, -8.111644744873047, -5.135300159454346]]}"
     ]
    }
   ],
   "source": [
    "!curl http://127.0.0.1:1234/invocations -H 'Content-Type: application/json' -d \\\n",
    "        '{\"instances\": [[[[0.0, 0.0, 0.0, 0.0, 0.0, 0.0, 0.0, 0.0, 0.0, 0.0, 0.0, 0.0, 0.0, 0.0, 0.0, 0.0, 0.0, 0.0, 0.0, 0.0, 0.0, 0.0, 0.0, 0.0, 0.0, 0.0, 0.0, 0.0], [0.0, 0.0, 0.0, 0.0, 0.0, 0.0, 0.0, 0.0, 0.0, 0.0, 0.0, 0.0, 0.0, 0.0, 0.0, 0.0, 0.0, 0.0, 0.0, 0.0, 0.0, 0.0, 0.0, 0.0, 0.0, 0.0, 0.0, 0.0], [0.0, 0.0, 0.0, 0.0, 0.0, 0.0, 0.0, 0.0, 0.0, 0.0, 0.0, 0.0, 0.0, 0.0, 0.0, 0.0, 0.0, 0.0, 0.0, 0.0, 0.0, 0.0, 0.0, 0.0, 0.0, 0.0, 0.0, 0.0], [0.0, 0.0, 0.0, 0.0, 0.0, 0.0, 0.0, 0.0, 0.0, 0.0, 0.0, 0.0, 0.0, 0.0, 0.0235294122248888, 0.0235294122248888, 0.0, 0.0, 0.0, 0.0, 0.0, 0.0, 0.0, 0.0, 0.0, 0.0, 0.0, 0.0], [0.0, 0.0, 0.0, 0.0, 0.0, 0.0, 0.0, 0.0, 0.0, 0.0, 0.0, 0.0, 0.0, 0.007843137718737125, 0.6823529601097107, 0.6352941393852234, 0.0235294122248888, 0.0, 0.0, 0.0, 0.0, 0.0, 0.0, 0.0, 0.0, 0.0, 0.0, 0.0], [0.0, 0.0, 0.0, 0.0, 0.0, 0.0, 0.0, 0.0, 0.0, 0.0, 0.0, 0.0, 0.0, 0.03529411926865578, 0.9803921580314636, 0.8666666746139526, 0.0313725508749485, 0.0, 0.0, 0.0, 0.0, 0.0, 0.0, 0.0, 0.0, 0.0, 0.0, 0.0], [0.0, 0.0, 0.0, 0.0, 0.0, 0.0, 0.0, 0.0, 0.0, 0.0, 0.0, 0.0, 0.0, 0.0784313753247261, 0.9882352948188782, 0.8509804010391235, 0.01568627543747425, 0.0, 0.0, 0.0, 0.0, 0.0, 0.0, 0.0, 0.0, 0.0, 0.0, 0.0], [0.0, 0.0, 0.0, 0.0, 0.0, 0.0, 0.0, 0.0, 0.0, 0.0, 0.0, 0.0, 0.0, 0.0, 0.8705882430076599, 0.8509804010391235, 0.019607843831181526, 0.0, 0.0, 0.0, 0.0, 0.0, 0.0, 0.0, 0.0, 0.0, 0.0, 0.0], [0.0, 0.0, 0.0, 0.0, 0.007843137718737125, 0.01568627543747425, 0.0, 0.0, 0.0, 0.0, 0.0, 0.0, 0.0, 0.0, 0.843137264251709, 0.9607843160629272, 0.125490203499794, 0.0, 0.0, 0.0, 0.0, 0.0, 0.0, 0.0, 0.0, 0.0, 0.0, 0.0], [0.0, 0.0, 0.0, 0.0784313753247261, 0.6666666865348816, 0.800000011920929, 0.5058823823928833, 0.49803921580314636, 0.4431372582912445, 0.0313725508749485, 0.0, 0.0, 0.0, 0.0, 0.5490196347236633, 0.9882352948188782, 0.32156863808631897, 0.0, 0.0, 0.0, 0.0, 0.0, 0.0, 0.0, 0.0, 0.0, 0.0, 0.0], [0.0, 0.0, 0.007843137718737125, 0.6235294342041016, 0.9960784316062927, 0.9960784316062927, 0.9960784316062927, 0.9960784316062927, 0.9921568632125854, 0.6941176652908325, 0.4470588266849518, 0.08627451211214066, 0.0, 0.0, 0.32156863808631897, 0.9882352948188782, 0.49803921580314636, 0.0, 0.0, 0.0, 0.0, 0.0, 0.0, 0.0, 0.0, 0.0, 0.0, 0.0], [0.0, 0.0, 0.01568627543747425, 0.8509804010391235, 0.9960784316062927, 0.572549045085907, 0.49803921580314636, 0.5529412031173706, 0.9529411792755127, 0.9960784316062927, 0.9921568632125854, 0.9098039269447327, 0.545098066329956, 0.18039216101169586, 0.08627451211214066, 0.9137254953384399, 0.5058823823928833, 0.0, 0.0, 0.0, 0.0, 0.0, 0.0, 0.0, 0.0, 0.0, 0.0, 0.0], [0.0, 0.0, 0.08235294371843338, 0.9137254953384399, 0.9921568632125854, 0.125490203499794, 0.0, 0.003921568859368563, 0.13333334028720856, 0.4470588266849518, 0.6941176652908325, 0.9843137264251709, 0.9960784316062927, 0.9647058844566345, 0.5607843399047852, 0.9254902005195618, 0.800000011920929, 0.0235294122248888, 0.0, 0.0, 0.0, 0.0, 0.0, 0.0, 0.0, 0.0, 0.0, 0.0], [0.0, 0.0, 0.14509804546833038, 0.9803921580314636, 0.8627451062202454, 0.003921568859368563, 0.0, 0.0, 0.0, 0.0, 0.027450980618596077, 0.32156863808631897, 0.5529412031173706, 0.9529411792755127, 0.9960784316062927, 0.9960784316062927, 0.9686274528503418, 0.6784313917160034, 0.45098039507865906, 0.14901961386203766, 0.0313725508749485, 0.0, 0.0, 0.0, 0.0, 0.0, 0.0, 0.0], [0.0, 0.0, 0.32156863808631897, 0.9882352948188782, 0.5490196347236633, 0.0, 0.0, 0.0, 0.0, 0.0, 0.0, 0.0, 0.003921568859368563, 0.13333334028720856, 0.6705882549285889, 0.9686274528503418, 1.0, 0.9960784316062927, 0.9960784316062927, 0.9764705896377563, 0.8156862854957581, 0.5058823823928833, 0.4470588266849518, 0.125490203499794, 0.019607843831181526, 0.007843137718737125, 0.0, 0.0], [0.0, 0.0, 0.49803921580314636, 0.9921568632125854, 0.5686274766921997, 0.0, 0.0, 0.0, 0.0, 0.0, 0.0, 0.0, 0.0, 0.0, 0.0117647061124444, 0.3764705955982208, 0.9882352948188782, 0.9176470637321472, 0.9137254953384399, 0.9882352948188782, 0.9960784316062927, 0.9960784316062927, 0.9960784316062927, 0.9607843160629272, 0.8509804010391235, 0.6666666865348816, 0.07058823853731155, 0.0], [0.0, 0.007843137718737125, 0.6745098233222961, 0.9882352948188782, 0.3333333432674408, 0.0, 0.0, 0.0, 0.0, 0.0, 0.0, 0.0, 0.0, 0.0, 0.0, 0.14509804546833038, 0.9647058844566345, 0.2078431397676468, 0.08235294371843338, 0.32156863808631897, 0.49803921580314636, 0.6784313917160034, 0.9607843160629272, 0.9960784316062927, 0.9960784316062927, 0.9764705896377563, 0.14509804546833038, 0.0], [0.0, 0.01568627543747425, 0.8509804010391235, 0.9882352948188782, 0.32156863808631897, 0.0, 0.0, 0.0, 0.0, 0.0, 0.0, 0.0, 0.0, 0.0, 0.0, 0.125490203499794, 0.9411764740943909, 0.14509804546833038, 0.0, 0.0, 0.0, 0.0117647061124444, 0.13333334028720856, 0.4901960790157318, 0.49803921580314636, 0.4901960790157318, 0.07058823853731155, 0.0], [0.0, 0.019607843831181526, 0.8509804010391235, 0.9803921580314636, 0.14509804546833038, 0.0, 0.0, 0.0, 0.0, 0.0, 0.0, 0.0, 0.0, 0.0, 0.0, 0.08235294371843338, 0.9058823585510254, 0.3137255012989044, 0.0, 0.0, 0.0, 0.0, 0.0, 0.0, 0.0, 0.0, 0.0, 0.0], [0.0, 0.10588235408067703, 0.9411764740943909, 0.9333333373069763, 0.09803921729326248, 0.0, 0.0, 0.0, 0.0, 0.0, 0.0, 0.0, 0.0, 0.0, 0.0, 0.03529411926865578, 0.8549019694328308, 0.19607843458652496, 0.0, 0.0, 0.0, 0.0, 0.0, 0.0, 0.0, 0.0, 0.0, 0.0], [0.0, 0.019607843831181526, 0.8509804010391235, 0.9137254953384399, 0.0784313753247261, 0.0, 0.0, 0.0, 0.0, 0.0, 0.0, 0.0, 0.0, 0.0, 0.0, 0.01568627543747425, 0.8313725590705872, 0.14509804546833038, 0.0, 0.0, 0.0, 0.0, 0.0, 0.0, 0.0, 0.0, 0.0, 0.0], [0.0, 0.01568627543747425, 0.843137264251709, 0.9764705896377563, 0.43529412150382996, 0.019607843831181526, 0.10588235408067703, 0.0, 0.0, 0.0, 0.0, 0.0, 0.0, 0.0, 0.0, 0.0, 0.4588235318660736, 0.0784313753247261, 0.0, 0.0, 0.0, 0.0, 0.0, 0.0, 0.0, 0.0, 0.0, 0.0], [0.0, 0.0, 0.4941176474094391, 0.9921568632125854, 0.9254902005195618, 0.8509804010391235, 0.8078431487083435, 0.01568627543747425, 0.0, 0.0, 0.0, 0.0, 0.0, 0.0, 0.0, 0.0, 0.05098039284348488, 0.0, 0.0, 0.0, 0.0, 0.0, 0.0, 0.0, 0.0, 0.0, 0.0, 0.0], [0.0, 0.0, 0.0313725508749485, 0.6235294342041016, 0.9411764740943909, 0.8509804010391235, 0.4745098054409027, 0.0, 0.0, 0.0, 0.0, 0.0, 0.0, 0.0, 0.0, 0.0, 0.0, 0.0, 0.0, 0.0, 0.0, 0.0, 0.0, 0.0, 0.0, 0.0, 0.0, 0.0], [0.0, 0.0, 0.0, 0.0117647061124444, 0.10588235408067703, 0.01568627543747425, 0.007843137718737125, 0.0, 0.0, 0.0, 0.0, 0.0, 0.0, 0.0, 0.0, 0.0, 0.0, 0.0, 0.0, 0.0, 0.0, 0.0, 0.0, 0.0, 0.0, 0.0, 0.0, 0.0], [0.0, 0.0, 0.0, 0.0, 0.0, 0.0, 0.0, 0.0, 0.0, 0.0, 0.0, 0.0, 0.0, 0.0, 0.0, 0.0, 0.0, 0.0, 0.0, 0.0, 0.0, 0.0, 0.0, 0.0, 0.0, 0.0, 0.0, 0.0], [0.0, 0.0, 0.0, 0.0, 0.0, 0.0, 0.0, 0.0, 0.0, 0.0, 0.0, 0.0, 0.0, 0.0, 0.0, 0.0, 0.0, 0.0, 0.0, 0.0, 0.0, 0.0, 0.0, 0.0, 0.0, 0.0, 0.0, 0.0], [0.0, 0.0, 0.0, 0.0, 0.0, 0.0, 0.0, 0.0, 0.0, 0.0, 0.0, 0.0, 0.0, 0.0, 0.0, 0.0, 0.0, 0.0, 0.0, 0.0, 0.0, 0.0, 0.0, 0.0, 0.0, 0.0, 0.0, 0.0]]]]}'"
   ]
  },
  {
   "cell_type": "markdown",
   "id": "88b62d6d",
   "metadata": {},
   "source": [
    "### TODO Recording\n",
    "\n",
    "- Copy over the JSON for the predictions above"
   ]
  },
  {
   "cell_type": "code",
   "execution_count": 15,
   "id": "e4a15070",
   "metadata": {},
   "outputs": [
    {
     "data": {
      "text/plain": [
       "[2.219493865966797,\n",
       " -29.166210174560547,\n",
       " -2.2996528148651123,\n",
       " -19.977157592773438,\n",
       " -1.8264541625976562,\n",
       " 25.076261520385742,\n",
       " -1.4856475591659546,\n",
       " -4.888859748840332,\n",
       " -2.687130928039551,\n",
       " 2.9445738792419434,\n",
       " -12.61015510559082,\n",
       " -11.612971305847168,\n",
       " -40.70948028564453,\n",
       " -14.043591499328613,\n",
       " -28.91634178161621,\n",
       " -7.952877998352051,\n",
       " -2.760037899017334,\n",
       " 2.014089822769165,\n",
       " -8.494477272033691,\n",
       " 7.568127632141113,\n",
       " -25.137611389160156,\n",
       " -21.357650756835938,\n",
       " -15.9081449508667,\n",
       " -3.7703542709350586,\n",
       " -8.111644744873047,\n",
       " -5.135300159454346]"
      ]
     },
     "execution_count": 15,
     "metadata": {},
     "output_type": "execute_result"
    }
   ],
   "source": [
    "predictions = json.loads(\n",
    "    '{\"predictions\": [[2.219493865966797, -29.166210174560547, -2.2996528148651123, -19.977157592773438, -1.8264541625976562, 25.076261520385742, -1.4856475591659546, -4.888859748840332, -2.687130928039551, 2.9445738792419434, -12.61015510559082, -11.612971305847168, -40.70948028564453, -14.043591499328613, -28.91634178161621, -7.952877998352051, -2.760037899017334, 2.014089822769165, -8.494477272033691, 7.568127632141113, -25.137611389160156, -21.357650756835938, -15.9081449508667, -3.7703542709350586, -8.111644744873047, -5.135300159454346]]}'\n",
    ")['predictions'][0]\n",
    "\n",
    "predictions"
   ]
  },
  {
   "cell_type": "markdown",
   "id": "c3d084ef",
   "metadata": {},
   "source": [
    "So the predicted label=actual label"
   ]
  },
  {
   "cell_type": "code",
   "execution_count": 16,
   "id": "0dca495e",
   "metadata": {},
   "outputs": [
    {
     "data": {
      "text/plain": [
       "'f'"
      ]
     },
     "execution_count": 16,
     "metadata": {},
     "output_type": "execute_result"
    }
   ],
   "source": [
    "classes[np.argmax(predictions)]"
   ]
  },
  {
   "cell_type": "markdown",
   "id": "05720469",
   "metadata": {},
   "source": [
    "### TODO Recording:\n",
    "\n",
    "- Scroll back up to where you display the image and select a different image\n",
    "- Follow the same steps to get the predictions on the different image\n",
    "- Total we should show predictions on 2 images"
   ]
  },
  {
   "cell_type": "code",
   "execution_count": null,
   "id": "07d39973",
   "metadata": {},
   "outputs": [],
   "source": []
  },
  {
   "cell_type": "code",
   "execution_count": null,
   "id": "25fcd5cf",
   "metadata": {},
   "outputs": [],
   "source": []
  },
  {
   "cell_type": "code",
   "execution_count": null,
   "id": "bc389a35",
   "metadata": {},
   "outputs": [],
   "source": []
  },
  {
   "cell_type": "code",
   "execution_count": null,
   "id": "5a9ac7ba",
   "metadata": {},
   "outputs": [],
   "source": []
  },
  {
   "cell_type": "code",
   "execution_count": null,
   "id": "c4e196df",
   "metadata": {},
   "outputs": [],
   "source": []
  },
  {
   "cell_type": "code",
   "execution_count": null,
   "id": "188ae74d",
   "metadata": {},
   "outputs": [],
   "source": []
  },
  {
   "cell_type": "code",
   "execution_count": null,
   "id": "33d73bba",
   "metadata": {},
   "outputs": [],
   "source": []
  }
 ],
 "metadata": {
  "kernelspec": {
   "display_name": "fsdl_venv",
   "language": "python",
   "name": "fsdl_venv"
  },
  "language_info": {
   "codemirror_mode": {
    "name": "ipython",
    "version": 3
   },
   "file_extension": ".py",
   "mimetype": "text/x-python",
   "name": "python",
   "nbconvert_exporter": "python",
   "pygments_lexer": "ipython3",
   "version": "3.10.9"
  }
 },
 "nbformat": 4,
 "nbformat_minor": 5
}
